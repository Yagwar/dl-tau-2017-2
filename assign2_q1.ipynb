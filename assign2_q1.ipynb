{
 "cells": [
  {
   "cell_type": "markdown",
   "metadata": {},
   "source": [
    "# Assignment 1\n",
    "## COSC 7336\n",
    "Student Name:\n",
    "The question 1 of the assignment must be completed in this notebook. Check that the notebook executes properly and that the corresponding outputs render appropriately."
   ]
  },
  {
   "cell_type": "markdown",
   "metadata": {},
   "source": [
    "## 1. Character based-language model practical\n",
    "Use a pretrained model character-based model such as the one discussed in class"
   ]
  },
  {
   "cell_type": "markdown",
   "metadata": {},
   "source": [
    "### 1.1 The most probable next word.\n",
    "\n",
    "Build a function that calculates a word that, with high probability, may follow a given one. Formally, given a word $w_i$ it must be calculated $w_{i+1}$ such that: \n",
    "\n",
    "$$ w_{i+1} = \\arg \\max_{w_{i+1}} P(w_{i+1}|w_i) $$\n",
    "\n"
   ]
  },
  {
   "cell_type": "code",
   "execution_count": 1,
   "metadata": {
    "collapsed": true
   },
   "outputs": [],
   "source": [
    "def next_word(word):\n",
    "    # your code here\n",
    "    return ''"
   ]
  },
  {
   "cell_type": "markdown",
   "metadata": {},
   "source": [
    "Clearly explain your strategy. Test the function with different examples. Discuss the results."
   ]
  },
  {
   "cell_type": "markdown",
   "metadata": {},
   "source": [
    "### 1.2 The hangman\n",
    "\n",
    "Design a function able to find the missing characters from a word. The function must work as follows:\n",
    "\n",
    "```\n",
    ">>> hangman(\"pe_p_e\")\n",
    "'people'\n",
    "\n",
    ">>> hangman(\"phi__sop_y\")\n",
    "'philosophy'\n",
    "\n",
    ">>> hangman(\"si_nif_c_nc_\")\n",
    "'significance'\n",
    "\n",
    ">>> hangman(\"kn__l_d_e\")\n",
    "'knowledge'\n",
    "\n",
    ">>> hangman(\"inte_r_ga_i_n\")\n",
    "'interrogation'\n",
    "```\n",
    "\n",
    "The function must be able to deal with up to 4 unknowns in arbitrary length words. The function must work in a reasonable time (max 1 minute in a laptop). "
   ]
  },
  {
   "cell_type": "code",
   "execution_count": 2,
   "metadata": {
    "collapsed": true
   },
   "outputs": [],
   "source": [
    "def hangman(word):\n",
    "    ### your code here\n",
    "    return ''"
   ]
  },
  {
   "cell_type": "markdown",
   "metadata": {},
   "source": [
    "Clearly explain your strategy. Test the function with different examples. Discuss the results."
   ]
  }
 ],
 "metadata": {
  "kernelspec": {
   "display_name": "Python [conda env:tf]",
   "language": "python",
   "name": "conda-env-tf-py"
  },
  "language_info": {
   "codemirror_mode": {
    "name": "ipython",
    "version": 3
   },
   "file_extension": ".py",
   "mimetype": "text/x-python",
   "name": "python",
   "nbconvert_exporter": "python",
   "pygments_lexer": "ipython3",
   "version": "3.6.2"
  }
 },
 "nbformat": 4,
 "nbformat_minor": 1
}
